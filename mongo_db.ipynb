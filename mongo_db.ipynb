{
 "cells": [
  {
   "cell_type": "code",
   "execution_count": 1,
   "metadata": {},
   "outputs": [],
   "source": [
    "import pandas as pd\n",
    "import numpy as np\n",
    "from pymongo import MongoClient\n",
    "import os\n",
    "import pandas as pd\n",
    "from urllib.parse import quote_plus\n",
    "from pprint import pprint"
   ]
  },
  {
   "cell_type": "markdown",
   "metadata": {},
   "source": [
    "# Connect to MongoDB"
   ]
  },
  {
   "cell_type": "code",
   "execution_count": 2,
   "metadata": {},
   "outputs": [],
   "source": [
    "host = os.environ.get(\"MONGO_TEST_HOST\") # the full host path is constructed via variables\n",
    "port = os.environ.get(\"MONGO_TEST_PORT\") # The port is default therefore unused\n",
    "username = os.environ.get(\"MONGO_TEST_USER\")\n",
    "password = os.environ.get(\"MONGO_TEST_PW\")\n",
    "db = os.environ.get(\"MONGO_TEST_DB\")"
   ]
  },
  {
   "cell_type": "code",
   "execution_count": 3,
   "metadata": {},
   "outputs": [
    {
     "name": "stdout",
     "output_type": "stream",
     "text": [
      "p%40ssw0rd%279%27%21\n"
     ]
    }
   ],
   "source": [
    "fake_pw = \"p@ssw0rd'9'!\"\n",
    "print(quote_plus(fake_pw))"
   ]
  },
  {
   "cell_type": "code",
   "execution_count": 4,
   "metadata": {},
   "outputs": [],
   "source": [
    "uri = \"mongodb+srv://%s:%s@%s\" % (\n",
    "    quote_plus(username), quote_plus(password), host)\n",
    "client = MongoClient(uri)"
   ]
  },
  {
   "cell_type": "code",
   "execution_count": 5,
   "metadata": {},
   "outputs": [
    {
     "data": {
      "text/plain": [
       "['sample_airbnb',\n",
       " 'sample_analytics',\n",
       " 'sample_geospatial',\n",
       " 'sample_guides',\n",
       " 'sample_mflix',\n",
       " 'sample_restaurants',\n",
       " 'sample_supplies',\n",
       " 'sample_training',\n",
       " 'sample_weatherdata',\n",
       " 'admin',\n",
       " 'local']"
      ]
     },
     "execution_count": 5,
     "metadata": {},
     "output_type": "execute_result"
    }
   ],
   "source": [
    "client.list_database_names()"
   ]
  },
  {
   "cell_type": "code",
   "execution_count": 19,
   "metadata": {},
   "outputs": [
    {
     "name": "stdout",
     "output_type": "stream",
     "text": [
      "['accounts', 'transactions', 'customers']\n"
     ]
    }
   ],
   "source": [
    "db = \"sample_analytics\"\n",
    "mydb = client[db]\n",
    "pprint(mydb.list_collection_names())"
   ]
  },
  {
   "cell_type": "code",
   "execution_count": 10,
   "metadata": {},
   "outputs": [
    {
     "name": "stdout",
     "output_type": "stream",
     "text": [
      "{'_id': ObjectId('5ca4bbc7a2dd94ee5816238c'),\n",
      " 'account_id': 371138,\n",
      " 'limit': 9000,\n",
      " 'products': ['Derivatives', 'InvestmentStock']}\n"
     ]
    }
   ],
   "source": [
    "pprint(mycol.find_one())"
   ]
  },
  {
   "cell_type": "markdown",
   "metadata": {},
   "source": [
    "## Accounts"
   ]
  },
  {
   "cell_type": "code",
   "execution_count": 12,
   "metadata": {},
   "outputs": [],
   "source": [
    "mycol = mydb[\"accounts\"]\n",
    "df_accounts = pd.DataFrame(list(mycol.find()))"
   ]
  },
  {
   "cell_type": "code",
   "execution_count": 13,
   "metadata": {},
   "outputs": [
    {
     "data": {
      "text/html": [
       "<div>\n",
       "<style scoped>\n",
       "    .dataframe tbody tr th:only-of-type {\n",
       "        vertical-align: middle;\n",
       "    }\n",
       "\n",
       "    .dataframe tbody tr th {\n",
       "        vertical-align: top;\n",
       "    }\n",
       "\n",
       "    .dataframe thead th {\n",
       "        text-align: right;\n",
       "    }\n",
       "</style>\n",
       "<table border=\"1\" class=\"dataframe\">\n",
       "  <thead>\n",
       "    <tr style=\"text-align: right;\">\n",
       "      <th></th>\n",
       "      <th>_id</th>\n",
       "      <th>account_id</th>\n",
       "      <th>limit</th>\n",
       "      <th>products</th>\n",
       "    </tr>\n",
       "  </thead>\n",
       "  <tbody>\n",
       "    <tr>\n",
       "      <th>672</th>\n",
       "      <td>5ca4bbc7a2dd94ee5816262f</td>\n",
       "      <td>120270</td>\n",
       "      <td>10000</td>\n",
       "      <td>[InvestmentFund, Derivatives, InvestmentStock]</td>\n",
       "    </tr>\n",
       "    <tr>\n",
       "      <th>1371</th>\n",
       "      <td>5ca4bbc7a2dd94ee581628ea</td>\n",
       "      <td>680724</td>\n",
       "      <td>10000</td>\n",
       "      <td>[Brokerage, InvestmentStock]</td>\n",
       "    </tr>\n",
       "    <tr>\n",
       "      <th>1087</th>\n",
       "      <td>5ca4bbc7a2dd94ee581627ce</td>\n",
       "      <td>639934</td>\n",
       "      <td>10000</td>\n",
       "      <td>[CurrencyService, Derivatives, Commodity, Inve...</td>\n",
       "    </tr>\n",
       "    <tr>\n",
       "      <th>1360</th>\n",
       "      <td>5ca4bbc7a2dd94ee581628df</td>\n",
       "      <td>486521</td>\n",
       "      <td>10000</td>\n",
       "      <td>[InvestmentStock, Commodity, CurrencyService]</td>\n",
       "    </tr>\n",
       "    <tr>\n",
       "      <th>1217</th>\n",
       "      <td>5ca4bbc7a2dd94ee58162850</td>\n",
       "      <td>212579</td>\n",
       "      <td>10000</td>\n",
       "      <td>[InvestmentStock, CurrencyService, InvestmentF...</td>\n",
       "    </tr>\n",
       "  </tbody>\n",
       "</table>\n",
       "</div>"
      ],
      "text/plain": [
       "                           _id  account_id  limit  \\\n",
       "672   5ca4bbc7a2dd94ee5816262f      120270  10000   \n",
       "1371  5ca4bbc7a2dd94ee581628ea      680724  10000   \n",
       "1087  5ca4bbc7a2dd94ee581627ce      639934  10000   \n",
       "1360  5ca4bbc7a2dd94ee581628df      486521  10000   \n",
       "1217  5ca4bbc7a2dd94ee58162850      212579  10000   \n",
       "\n",
       "                                               products  \n",
       "672      [InvestmentFund, Derivatives, InvestmentStock]  \n",
       "1371                       [Brokerage, InvestmentStock]  \n",
       "1087  [CurrencyService, Derivatives, Commodity, Inve...  \n",
       "1360      [InvestmentStock, Commodity, CurrencyService]  \n",
       "1217  [InvestmentStock, CurrencyService, InvestmentF...  "
      ]
     },
     "execution_count": 13,
     "metadata": {},
     "output_type": "execute_result"
    }
   ],
   "source": [
    "df_accounts.sample(5)"
   ]
  },
  {
   "cell_type": "code",
   "execution_count": 20,
   "metadata": {},
   "outputs": [
    {
     "data": {
      "text/plain": [
       "(1746, 4)"
      ]
     },
     "execution_count": 20,
     "metadata": {},
     "output_type": "execute_result"
    }
   ],
   "source": [
    "df_accounts.shape"
   ]
  },
  {
   "cell_type": "code",
   "execution_count": 35,
   "metadata": {},
   "outputs": [
    {
     "data": {
      "text/plain": [
       "count     1746.000000\n",
       "mean      9955.899198\n",
       "std        354.750195\n",
       "min       3000.000000\n",
       "25%      10000.000000\n",
       "50%      10000.000000\n",
       "75%      10000.000000\n",
       "max      10000.000000\n",
       "Name: limit, dtype: float64"
      ]
     },
     "execution_count": 35,
     "metadata": {},
     "output_type": "execute_result"
    }
   ],
   "source": [
    "df_accounts.limit.describe()"
   ]
  },
  {
   "cell_type": "markdown",
   "metadata": {},
   "source": [
    "## Transactions"
   ]
  },
  {
   "cell_type": "code",
   "execution_count": 15,
   "metadata": {},
   "outputs": [],
   "source": [
    "# Create a collection and return all records\n",
    "mycol = mydb[\"transactions\"]\n",
    "df_transactions = pd.DataFrame(list(mycol.find()))"
   ]
  },
  {
   "cell_type": "code",
   "execution_count": 16,
   "metadata": {},
   "outputs": [
    {
     "data": {
      "text/html": [
       "<div>\n",
       "<style scoped>\n",
       "    .dataframe tbody tr th:only-of-type {\n",
       "        vertical-align: middle;\n",
       "    }\n",
       "\n",
       "    .dataframe tbody tr th {\n",
       "        vertical-align: top;\n",
       "    }\n",
       "\n",
       "    .dataframe thead th {\n",
       "        text-align: right;\n",
       "    }\n",
       "</style>\n",
       "<table border=\"1\" class=\"dataframe\">\n",
       "  <thead>\n",
       "    <tr style=\"text-align: right;\">\n",
       "      <th></th>\n",
       "      <th>_id</th>\n",
       "      <th>account_id</th>\n",
       "      <th>transaction_count</th>\n",
       "      <th>bucket_start_date</th>\n",
       "      <th>bucket_end_date</th>\n",
       "      <th>transactions</th>\n",
       "    </tr>\n",
       "  </thead>\n",
       "  <tbody>\n",
       "    <tr>\n",
       "      <th>858</th>\n",
       "      <td>5ca4bbc1a2dd94ee5816200e</td>\n",
       "      <td>525945</td>\n",
       "      <td>92</td>\n",
       "      <td>1998-01-25</td>\n",
       "      <td>2017-01-07</td>\n",
       "      <td>[{'date': 2008-10-31 00:00:00, 'amount': 296, ...</td>\n",
       "    </tr>\n",
       "    <tr>\n",
       "      <th>1474</th>\n",
       "      <td>5ca4bbc1a2dd94ee58162276</td>\n",
       "      <td>97500</td>\n",
       "      <td>23</td>\n",
       "      <td>1985-02-28</td>\n",
       "      <td>2016-10-15</td>\n",
       "      <td>[{'date': 2013-04-12 00:00:00, 'amount': 5182,...</td>\n",
       "    </tr>\n",
       "    <tr>\n",
       "      <th>1502</th>\n",
       "      <td>5ca4bbc1a2dd94ee58162292</td>\n",
       "      <td>51645</td>\n",
       "      <td>71</td>\n",
       "      <td>1964-11-12</td>\n",
       "      <td>2016-12-28</td>\n",
       "      <td>[{'date': 1972-08-15 00:00:00, 'amount': 9831,...</td>\n",
       "    </tr>\n",
       "    <tr>\n",
       "      <th>874</th>\n",
       "      <td>5ca4bbc1a2dd94ee5816201e</td>\n",
       "      <td>349536</td>\n",
       "      <td>29</td>\n",
       "      <td>1993-06-14</td>\n",
       "      <td>2016-10-26</td>\n",
       "      <td>[{'date': 2010-03-05 00:00:00, 'amount': 712, ...</td>\n",
       "    </tr>\n",
       "    <tr>\n",
       "      <th>750</th>\n",
       "      <td>5ca4bbc1a2dd94ee58161fa2</td>\n",
       "      <td>716490</td>\n",
       "      <td>2</td>\n",
       "      <td>2002-06-24</td>\n",
       "      <td>2013-04-07</td>\n",
       "      <td>[{'date': 2008-01-07 00:00:00, 'amount': 3715,...</td>\n",
       "    </tr>\n",
       "  </tbody>\n",
       "</table>\n",
       "</div>"
      ],
      "text/plain": [
       "                           _id  account_id  transaction_count  \\\n",
       "858   5ca4bbc1a2dd94ee5816200e      525945                 92   \n",
       "1474  5ca4bbc1a2dd94ee58162276       97500                 23   \n",
       "1502  5ca4bbc1a2dd94ee58162292       51645                 71   \n",
       "874   5ca4bbc1a2dd94ee5816201e      349536                 29   \n",
       "750   5ca4bbc1a2dd94ee58161fa2      716490                  2   \n",
       "\n",
       "     bucket_start_date bucket_end_date  \\\n",
       "858         1998-01-25      2017-01-07   \n",
       "1474        1985-02-28      2016-10-15   \n",
       "1502        1964-11-12      2016-12-28   \n",
       "874         1993-06-14      2016-10-26   \n",
       "750         2002-06-24      2013-04-07   \n",
       "\n",
       "                                           transactions  \n",
       "858   [{'date': 2008-10-31 00:00:00, 'amount': 296, ...  \n",
       "1474  [{'date': 2013-04-12 00:00:00, 'amount': 5182,...  \n",
       "1502  [{'date': 1972-08-15 00:00:00, 'amount': 9831,...  \n",
       "874   [{'date': 2010-03-05 00:00:00, 'amount': 712, ...  \n",
       "750   [{'date': 2008-01-07 00:00:00, 'amount': 3715,...  "
      ]
     },
     "execution_count": 16,
     "metadata": {},
     "output_type": "execute_result"
    }
   ],
   "source": [
    "df_transactions.sample(5)"
   ]
  },
  {
   "cell_type": "code",
   "execution_count": 24,
   "metadata": {},
   "outputs": [
    {
     "data": {
      "text/plain": [
       "(1746, 6)"
      ]
     },
     "execution_count": 24,
     "metadata": {},
     "output_type": "execute_result"
    }
   ],
   "source": [
    "df_transactions.shape"
   ]
  },
  {
   "cell_type": "code",
   "execution_count": 34,
   "metadata": {},
   "outputs": [
    {
     "data": {
      "text/plain": [
       "count    1746.000000\n",
       "mean       50.469072\n",
       "std        29.208889\n",
       "min         1.000000\n",
       "25%        24.000000\n",
       "50%        52.000000\n",
       "75%        76.000000\n",
       "max       100.000000\n",
       "Name: transaction_count, dtype: float64"
      ]
     },
     "execution_count": 34,
     "metadata": {},
     "output_type": "execute_result"
    }
   ],
   "source": [
    "df_transactions.transaction_count.describe()"
   ]
  },
  {
   "cell_type": "markdown",
   "metadata": {},
   "source": [
    "## Customers"
   ]
  },
  {
   "cell_type": "code",
   "execution_count": 17,
   "metadata": {},
   "outputs": [],
   "source": [
    "# Create a collection and return all records\n",
    "mycol = mydb[\"customers\"]\n",
    "df_customers = pd.DataFrame(list(mycol.find()))"
   ]
  },
  {
   "cell_type": "code",
   "execution_count": 18,
   "metadata": {},
   "outputs": [
    {
     "data": {
      "text/html": [
       "<div>\n",
       "<style scoped>\n",
       "    .dataframe tbody tr th:only-of-type {\n",
       "        vertical-align: middle;\n",
       "    }\n",
       "\n",
       "    .dataframe tbody tr th {\n",
       "        vertical-align: top;\n",
       "    }\n",
       "\n",
       "    .dataframe thead th {\n",
       "        text-align: right;\n",
       "    }\n",
       "</style>\n",
       "<table border=\"1\" class=\"dataframe\">\n",
       "  <thead>\n",
       "    <tr style=\"text-align: right;\">\n",
       "      <th></th>\n",
       "      <th>_id</th>\n",
       "      <th>username</th>\n",
       "      <th>name</th>\n",
       "      <th>address</th>\n",
       "      <th>birthdate</th>\n",
       "      <th>email</th>\n",
       "      <th>active</th>\n",
       "      <th>accounts</th>\n",
       "      <th>tier_and_details</th>\n",
       "    </tr>\n",
       "  </thead>\n",
       "  <tbody>\n",
       "    <tr>\n",
       "      <th>370</th>\n",
       "      <td>5ca4bbcea2dd94ee58162bdd</td>\n",
       "      <td>hardinsharon</td>\n",
       "      <td>Jodi Hunter</td>\n",
       "      <td>1564 Lopez Manors Suite 771\\nWest Dustin, MA 2...</td>\n",
       "      <td>1976-01-13 07:09:05</td>\n",
       "      <td>lynnpierce@gmail.com</td>\n",
       "      <td>NaN</td>\n",
       "      <td>[304194]</td>\n",
       "      <td>{}</td>\n",
       "    </tr>\n",
       "    <tr>\n",
       "      <th>469</th>\n",
       "      <td>5ca4bbcea2dd94ee58162c40</td>\n",
       "      <td>audreyortiz</td>\n",
       "      <td>Kim Garcia</td>\n",
       "      <td>010 Lauren Rapid\\nLake Erin, IN 93273</td>\n",
       "      <td>1988-12-22 22:08:38</td>\n",
       "      <td>alyssahahn@yahoo.com</td>\n",
       "      <td>NaN</td>\n",
       "      <td>[448268]</td>\n",
       "      <td>{}</td>\n",
       "    </tr>\n",
       "    <tr>\n",
       "      <th>155</th>\n",
       "      <td>5ca4bbcea2dd94ee58162b05</td>\n",
       "      <td>hurstmatthew</td>\n",
       "      <td>Stacey Grimes</td>\n",
       "      <td>0959 Sean Manor\\nGregoryville, IL 51370</td>\n",
       "      <td>1970-11-14 00:00:19</td>\n",
       "      <td>calderonchad@hotmail.com</td>\n",
       "      <td>NaN</td>\n",
       "      <td>[990274, 300879, 280906, 692927, 204117]</td>\n",
       "      <td>{'ab726a9b9c9b47898d1a7fd567864df1': {'tier': ...</td>\n",
       "    </tr>\n",
       "    <tr>\n",
       "      <th>39</th>\n",
       "      <td>5ca4bbcea2dd94ee58162a8f</td>\n",
       "      <td>portermaria</td>\n",
       "      <td>Sarah White</td>\n",
       "      <td>USCGC Williams\\nFPO AP 67784</td>\n",
       "      <td>1987-01-29 13:29:53</td>\n",
       "      <td>christensenallison@yahoo.com</td>\n",
       "      <td>NaN</td>\n",
       "      <td>[898156, 124603]</td>\n",
       "      <td>{}</td>\n",
       "    </tr>\n",
       "    <tr>\n",
       "      <th>477</th>\n",
       "      <td>5ca4bbcea2dd94ee58162c48</td>\n",
       "      <td>greenmelanie</td>\n",
       "      <td>Joshua Williams</td>\n",
       "      <td>Unit 6711 Box 5373\\nDPO AP 24106</td>\n",
       "      <td>1996-06-27 06:51:35</td>\n",
       "      <td>jonathonturner@gmail.com</td>\n",
       "      <td>NaN</td>\n",
       "      <td>[205355, 202946, 362683, 111626, 486521]</td>\n",
       "      <td>{'6c763525405a4dc69231122051518572': {'tier': ...</td>\n",
       "    </tr>\n",
       "  </tbody>\n",
       "</table>\n",
       "</div>"
      ],
      "text/plain": [
       "                          _id      username             name  \\\n",
       "370  5ca4bbcea2dd94ee58162bdd  hardinsharon      Jodi Hunter   \n",
       "469  5ca4bbcea2dd94ee58162c40   audreyortiz       Kim Garcia   \n",
       "155  5ca4bbcea2dd94ee58162b05  hurstmatthew    Stacey Grimes   \n",
       "39   5ca4bbcea2dd94ee58162a8f   portermaria      Sarah White   \n",
       "477  5ca4bbcea2dd94ee58162c48  greenmelanie  Joshua Williams   \n",
       "\n",
       "                                               address           birthdate  \\\n",
       "370  1564 Lopez Manors Suite 771\\nWest Dustin, MA 2... 1976-01-13 07:09:05   \n",
       "469              010 Lauren Rapid\\nLake Erin, IN 93273 1988-12-22 22:08:38   \n",
       "155            0959 Sean Manor\\nGregoryville, IL 51370 1970-11-14 00:00:19   \n",
       "39                        USCGC Williams\\nFPO AP 67784 1987-01-29 13:29:53   \n",
       "477                   Unit 6711 Box 5373\\nDPO AP 24106 1996-06-27 06:51:35   \n",
       "\n",
       "                            email active  \\\n",
       "370          lynnpierce@gmail.com    NaN   \n",
       "469          alyssahahn@yahoo.com    NaN   \n",
       "155      calderonchad@hotmail.com    NaN   \n",
       "39   christensenallison@yahoo.com    NaN   \n",
       "477      jonathonturner@gmail.com    NaN   \n",
       "\n",
       "                                     accounts  \\\n",
       "370                                  [304194]   \n",
       "469                                  [448268]   \n",
       "155  [990274, 300879, 280906, 692927, 204117]   \n",
       "39                           [898156, 124603]   \n",
       "477  [205355, 202946, 362683, 111626, 486521]   \n",
       "\n",
       "                                      tier_and_details  \n",
       "370                                                 {}  \n",
       "469                                                 {}  \n",
       "155  {'ab726a9b9c9b47898d1a7fd567864df1': {'tier': ...  \n",
       "39                                                  {}  \n",
       "477  {'6c763525405a4dc69231122051518572': {'tier': ...  "
      ]
     },
     "execution_count": 18,
     "metadata": {},
     "output_type": "execute_result"
    }
   ],
   "source": [
    "df_customers.sample(5)"
   ]
  }
 ],
 "metadata": {
  "kernelspec": {
   "display_name": "Python 3.9.13 ('Mongo')",
   "language": "python",
   "name": "python3"
  },
  "language_info": {
   "codemirror_mode": {
    "name": "ipython",
    "version": 3
   },
   "file_extension": ".py",
   "mimetype": "text/x-python",
   "name": "python",
   "nbconvert_exporter": "python",
   "pygments_lexer": "ipython3",
   "version": "3.10.6"
  },
  "orig_nbformat": 4,
  "vscode": {
   "interpreter": {
    "hash": "cca09ede48acf005208dc3476a1f026a21905b3672fe08beebb3181dd08a7a3e"
   }
  }
 },
 "nbformat": 4,
 "nbformat_minor": 2
}
